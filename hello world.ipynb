{
 "cells": [
  {
   "cell_type": "code",
   "execution_count": null,
   "metadata": {},
   "outputs": [],
   "source": [
    "# libraries I use the most\n",
    "import pyodbc   # odbc library for connecting to dbs on windows. I use it for SQL Server,\n",
    "                # but I think it's the right tool for MySQL also.\n",
    "import pandas as pd  # crucial data analyis library\n",
    "from pathlib import Path   # best for file system stuff. Wraps and simplifies other libraries\n"
   ]
  }
 ],
 "metadata": {
  "kernelspec": {
   "display_name": "Python 3",
   "language": "python",
   "name": "python3"
  },
  "language_info": {
   "codemirror_mode": {
    "name": "ipython",
    "version": 3
   },
   "file_extension": ".py",
   "mimetype": "text/x-python",
   "name": "python",
   "nbconvert_exporter": "python",
   "pygments_lexer": "ipython3",
   "version": "3.8.5"
  }
 },
 "nbformat": 4,
 "nbformat_minor": 4
}
